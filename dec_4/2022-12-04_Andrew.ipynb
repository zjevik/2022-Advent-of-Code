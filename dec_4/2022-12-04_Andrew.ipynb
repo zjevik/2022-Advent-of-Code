{
 "cells": [
  {
   "cell_type": "code",
   "execution_count": 1,
   "metadata": {},
   "outputs": [],
   "source": [
    "import numpy as np\n",
    "import pandas as pd\n",
    "import math"
   ]
  },
  {
   "cell_type": "code",
   "execution_count": 22,
   "metadata": {},
   "outputs": [],
   "source": [
    "file1 = open('4.txt', 'r')\n",
    "lines = file1.readlines()"
   ]
  },
  {
   "cell_type": "code",
   "execution_count": 23,
   "metadata": {},
   "outputs": [],
   "source": [
    "sections = []\n",
    "for l in lines:\n",
    "    l = l.replace('\\n','')\n",
    "    parts = l.split(',')\n",
    "    # print(parts)\n",
    "    a= parts[0]\n",
    "    b = parts[1]\n",
    "    a1, a2 = a.split('-')\n",
    "    b1, b2 = b.split('-')\n",
    "    # print(a1,a2,b1,b2)\n",
    "    sections.append([set(range(int(a1),int(a2)+1)), set(range(int(b1),int(b2)+1))])\n",
    "\n",
    "# sections"
   ]
  },
  {
   "cell_type": "code",
   "execution_count": 24,
   "metadata": {},
   "outputs": [
    {
     "data": {
      "text/plain": [
       "644"
      ]
     },
     "execution_count": 24,
     "metadata": {},
     "output_type": "execute_result"
    }
   ],
   "source": [
    "contains = []\n",
    "for a,b in sections:\n",
    "    if a.intersection(b) == a or b.intersection(a) == b:\n",
    "        contains.append([a,b])\n",
    "len(contains)"
   ]
  },
  {
   "cell_type": "markdown",
   "metadata": {},
   "source": [
    "# Second part"
   ]
  },
  {
   "cell_type": "code",
   "execution_count": 25,
   "metadata": {},
   "outputs": [
    {
     "data": {
      "text/plain": [
       "926"
      ]
     },
     "execution_count": 25,
     "metadata": {},
     "output_type": "execute_result"
    }
   ],
   "source": [
    "contains = []\n",
    "for a,b in sections:\n",
    "    if len(a.intersection(b)) > 0:\n",
    "        contains.append([a,b])\n",
    "len(contains)"
   ]
  }
 ],
 "metadata": {
  "kernelspec": {
   "display_name": "Python 3.11.0 64-bit",
   "language": "python",
   "name": "python3"
  },
  "language_info": {
   "codemirror_mode": {
    "name": "ipython",
    "version": 3
   },
   "file_extension": ".py",
   "mimetype": "text/x-python",
   "name": "python",
   "nbconvert_exporter": "python",
   "pygments_lexer": "ipython3",
   "version": "3.11.0"
  },
  "orig_nbformat": 4,
  "vscode": {
   "interpreter": {
    "hash": "aee8b7b246df8f9039afb4144a1f6fd8d2ca17a180786b69acc140d282b71a49"
   }
  }
 },
 "nbformat": 4,
 "nbformat_minor": 2
}
