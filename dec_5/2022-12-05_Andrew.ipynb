{
 "cells": [
  {
   "cell_type": "code",
   "execution_count": 1,
   "metadata": {},
   "outputs": [],
   "source": [
    "import numpy as np\n",
    "import pandas as pd\n",
    "import math"
   ]
  },
  {
   "cell_type": "code",
   "execution_count": 29,
   "metadata": {},
   "outputs": [],
   "source": [
    "file1 = open('5.txt', 'r')\n",
    "lines = file1.readlines()"
   ]
  },
  {
   "cell_type": "code",
   "execution_count": 40,
   "metadata": {},
   "outputs": [
    {
     "data": {
      "text/plain": [
       "[['C', 'M', 'N', 'H'],\n",
       " ['J', 'N'],\n",
       " ['S'],\n",
       " ['L', 'L', 'V', 'N'],\n",
       " ['C', 'L', 'D', 'M'],\n",
       " ['M',\n",
       "  'R',\n",
       "  'B',\n",
       "  'V',\n",
       "  'F',\n",
       "  'Q',\n",
       "  'W',\n",
       "  'T',\n",
       "  'Q',\n",
       "  'J',\n",
       "  'P',\n",
       "  'L',\n",
       "  'W',\n",
       "  'H',\n",
       "  'B',\n",
       "  'R',\n",
       "  'T',\n",
       "  'G',\n",
       "  'M',\n",
       "  'H',\n",
       "  'D',\n",
       "  'T'],\n",
       " ['D', 'G', 'Q', 'F', 'R', 'Z', 'G', 'D', 'P', 'G', 'H', 'Q', 'L', 'L'],\n",
       " ['M', 'C', 'H'],\n",
       " ['R', 'Q']]"
      ]
     },
     "execution_count": 40,
     "metadata": {},
     "output_type": "execute_result"
    }
   ],
   "source": [
    "stacks_in = ['ZN','MCD','P']\n",
    "stacks_in = ['DLVTMHF','HQGJCTNP','RSDMPH','LBVF','NHGLQ','WBDGRMQ','GMNRCHLQ','CLW','RDLQJZMT']\n",
    "\n",
    "stacks = []\n",
    "for stack in stacks_in:\n",
    "    tmp = []\n",
    "    for letter in stack:\n",
    "        tmp.append(letter)\n",
    "    stacks.append(tmp)\n",
    "\n",
    "# print(stacks)\n",
    "for l in lines:\n",
    "    l = l.replace('\\n','')\n",
    "    action,cnt,fr,int_from,to,int_to = l.split(' ')\n",
    "    # print(action,cnt,fr,int_from,to,int_to)\n",
    "    for _ in range(int(cnt)):\n",
    "        block_to_move = stacks[int(int_from)-1].pop()\n",
    "        stacks[int(int_to)-1].append(block_to_move)\n",
    "    # a= parts[0]\n",
    "    # b = parts[1]\n",
    "    # a1, a2 = a.split('-')\n",
    "    # b1, b2 = b.split('-')\n",
    "    # # print(a1,a2,b1,b2)\n",
    "    # sections.append([set(range(int(a1),int(a2)+1)), set(range(int(b1),int(b2)+1))])\n",
    "\n",
    "stacks"
   ]
  },
  {
   "cell_type": "code",
   "execution_count": 41,
   "metadata": {},
   "outputs": [
    {
     "data": {
      "text/plain": [
       "'HNSNMTLHQ'"
      ]
     },
     "execution_count": 41,
     "metadata": {},
     "output_type": "execute_result"
    }
   ],
   "source": [
    "ans = ''\n",
    "for st in stacks:\n",
    "    ans += st.pop()\n",
    "ans"
   ]
  },
  {
   "cell_type": "markdown",
   "metadata": {},
   "source": [
    "# Second part"
   ]
  },
  {
   "cell_type": "code",
   "execution_count": 42,
   "metadata": {},
   "outputs": [
    {
     "name": "stdout",
     "output_type": "stream",
     "text": [
      "[['M', 'S', 'B', 'R'], ['L', 'N'], ['L'], ['W', 'D', 'J', 'F'], ['G', 'H', 'G', 'D'], ['C', 'Q', 'P', 'L', 'D', 'P', 'D', 'H', 'W', 'R', 'R', 'M', 'M', 'G', 'F', 'R', 'Q', 'H', 'Z', 'C', 'N', 'J'], ['Q', 'Q', 'N', 'T', 'Q', 'L', 'B', 'L', 'M', 'T', 'G', 'L', 'V', 'M'], ['H', 'H', 'C'], ['V', 'T']]\n"
     ]
    }
   ],
   "source": [
    "# stacks_in = ['ZN','MCD','P']\n",
    "stacks_in = ['DLVTMHF','HQGJCTNP','RSDMPH','LBVF','NHGLQ','WBDGRMQ','GMNRCHLQ','CLW','RDLQJZMT']\n",
    "\n",
    "stacks = []\n",
    "for stack in stacks_in:\n",
    "    tmp = []\n",
    "    for letter in stack:\n",
    "        tmp.append(letter)\n",
    "    stacks.append(tmp)\n",
    "\n",
    "# print(stacks)\n",
    "for l in lines:\n",
    "    l = l.replace('\\n','')\n",
    "    action,cnt,fr,int_from,to,int_to = l.split(' ')\n",
    "    # print(action,cnt,fr,int_from,to,int_to)\n",
    "    tmp = []\n",
    "    for _ in range(int(cnt)):\n",
    "        block_to_move = stacks[int(int_from)-1].pop()\n",
    "        tmp.append(block_to_move)\n",
    "        \n",
    "    for _ in range(int(cnt)):\n",
    "        block_to_move = tmp.pop()\n",
    "        stacks[int(int_to)-1].append(block_to_move)\n",
    "    # a= parts[0]\n",
    "    # b = parts[1]\n",
    "    # a1, a2 = a.split('-')\n",
    "    # b1, b2 = b.split('-')\n",
    "    # # print(a1,a2,b1,b2)\n",
    "    # sections.append([set(range(int(a1),int(a2)+1)), set(range(int(b1),int(b2)+1))])\n",
    "\n",
    "print(stacks)"
   ]
  },
  {
   "cell_type": "code",
   "execution_count": 43,
   "metadata": {},
   "outputs": [
    {
     "data": {
      "text/plain": [
       "'RNLFDJMCT'"
      ]
     },
     "execution_count": 43,
     "metadata": {},
     "output_type": "execute_result"
    }
   ],
   "source": [
    "ans = ''\n",
    "for st in stacks:\n",
    "    ans += st.pop()\n",
    "ans"
   ]
  }
 ],
 "metadata": {
  "kernelspec": {
   "display_name": "Python 3.11.0 64-bit",
   "language": "python",
   "name": "python3"
  },
  "language_info": {
   "codemirror_mode": {
    "name": "ipython",
    "version": 3
   },
   "file_extension": ".py",
   "mimetype": "text/x-python",
   "name": "python",
   "nbconvert_exporter": "python",
   "pygments_lexer": "ipython3",
   "version": "3.11.0"
  },
  "orig_nbformat": 4,
  "vscode": {
   "interpreter": {
    "hash": "aee8b7b246df8f9039afb4144a1f6fd8d2ca17a180786b69acc140d282b71a49"
   }
  }
 },
 "nbformat": 4,
 "nbformat_minor": 2
}
