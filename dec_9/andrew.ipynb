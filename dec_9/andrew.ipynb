{
 "cells": [
  {
   "cell_type": "code",
   "execution_count": 2,
   "metadata": {},
   "outputs": [],
   "source": [
    "import numpy as np\n",
    "import pandas as pd\n",
    "import math"
   ]
  },
  {
   "cell_type": "code",
   "execution_count": 71,
   "metadata": {},
   "outputs": [],
   "source": [
    "file1 = open('9.txt', 'r')\n",
    "lines = file1.readlines()\n",
    "\n",
    "tail_locs = []\n",
    "h_x = h_y = 0\n",
    "t_x = t_y = 0\n",
    "\n",
    "tail_locs.append((t_x,t_y))\n",
    "\n",
    "def fix_tail(h_x,h_y,t_x,t_y):\n",
    "    d_x = t_x - h_x\n",
    "    d_y = t_y - h_y\n",
    "    if abs(d_x) == 2 or abs(d_y) == 2:\n",
    "        t_x -= math.ceil(abs(d_x/2))*np.sign(d_x)\n",
    "        t_y -= math.ceil(abs(d_y/2))*np.sign(d_y)\n",
    "        return t_x,t_y\n",
    "    \n",
    "    return t_x,t_y\n",
    "\n",
    "for l in lines:\n",
    "    action,steps = l.replace('\\n','').split(' ')\n",
    "    # print(f'action: {action}')\n",
    "    for i in range(int(steps)):\n",
    "        if action == 'R':\n",
    "            h_x += 1\n",
    "        elif action == 'U':\n",
    "            h_y += 1\n",
    "        elif action == 'L':\n",
    "            h_x -=1\n",
    "        elif action == 'D':\n",
    "            h_y -=1\n",
    "        t_x, t_y = fix_tail(h_x,h_y,t_x,t_y)\n",
    "        tail_locs.append((t_x,t_y))\n",
    "        # print(f'({h_x},{h_y}) - ({t_x},{t_y})')\n",
    "\n",
    "# tail_locs"
   ]
  },
  {
   "cell_type": "code",
   "execution_count": 68,
   "metadata": {},
   "outputs": [
    {
     "data": {
      "text/plain": [
       "5878"
      ]
     },
     "execution_count": 68,
     "metadata": {},
     "output_type": "execute_result"
    }
   ],
   "source": [
    "len(set(tail_locs))"
   ]
  },
  {
   "cell_type": "markdown",
   "metadata": {},
   "source": [
    "# Second part"
   ]
  },
  {
   "cell_type": "code",
   "execution_count": 66,
   "metadata": {},
   "outputs": [
    {
     "data": {
      "text/plain": [
       "2405"
      ]
     },
     "execution_count": 66,
     "metadata": {},
     "output_type": "execute_result"
    }
   ],
   "source": [
    "file1 = open('9.txt', 'r')\n",
    "lines = file1.readlines()\n",
    "\n",
    "tail_locs = []\n",
    "length = 10\n",
    "pts = [(0,0) for _ in range(length)]\n",
    "\n",
    "tail_locs.append(pts[8])\n",
    "\n",
    "def fix_next_pt(pt_head,pt_tail):\n",
    "    h_x,h_y = pt_head\n",
    "    t_x,t_y = pt_tail\n",
    "    d_x = t_x - h_x\n",
    "    d_y = t_y - h_y\n",
    "    if abs(d_x) == 2 or abs(d_y) == 2:\n",
    "        t_x -= math.ceil(abs(d_x/2))*np.sign(d_x)\n",
    "        t_y -= math.ceil(abs(d_y/2))*np.sign(d_y)\n",
    "        return (t_x,t_y)\n",
    "    \n",
    "    return (t_x,t_y)\n",
    "\n",
    "for l in lines:\n",
    "    action,steps = l.replace('\\n','').split(' ')\n",
    "    # print(f'action: {action}')\n",
    "    for i in range(int(steps)):\n",
    "        if action == 'R':\n",
    "            h_x,h_y = pts[0]\n",
    "            h_x += 1\n",
    "            pts[0] = (h_x,h_y)\n",
    "        elif action == 'U':\n",
    "            h_x,h_y = pts[0]\n",
    "            h_y += 1\n",
    "            pts[0] = (h_x,h_y)\n",
    "        elif action == 'L':\n",
    "            h_x,h_y = pts[0]\n",
    "            h_x -=1\n",
    "            pts[0] = (h_x,h_y)\n",
    "        elif action == 'D':\n",
    "            h_x,h_y = pts[0]\n",
    "            h_y -=1\n",
    "            pts[0] = (h_x,h_y)\n",
    "        for i in range(1,length):\n",
    "            pts[i] = fix_next_pt(pts[i-1],pts[i])\n",
    "\n",
    "        tail_locs.append(pts[length-1])\n",
    "\n",
    "\n",
    "# tail_locs\n",
    "len(set(tail_locs))"
   ]
  },
  {
   "cell_type": "code",
   "execution_count": null,
   "metadata": {},
   "outputs": [],
   "source": []
  }
 ],
 "metadata": {
  "kernelspec": {
   "display_name": "Python 3.11.0 64-bit",
   "language": "python",
   "name": "python3"
  },
  "language_info": {
   "codemirror_mode": {
    "name": "ipython",
    "version": 3
   },
   "file_extension": ".py",
   "mimetype": "text/x-python",
   "name": "python",
   "nbconvert_exporter": "python",
   "pygments_lexer": "ipython3",
   "version": "3.11.0"
  },
  "orig_nbformat": 4,
  "vscode": {
   "interpreter": {
    "hash": "aee8b7b246df8f9039afb4144a1f6fd8d2ca17a180786b69acc140d282b71a49"
   }
  }
 },
 "nbformat": 4,
 "nbformat_minor": 2
}
