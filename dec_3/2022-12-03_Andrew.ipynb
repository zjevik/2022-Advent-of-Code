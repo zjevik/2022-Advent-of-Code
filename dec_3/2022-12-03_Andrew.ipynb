{
 "cells": [
  {
   "cell_type": "code",
   "execution_count": 9,
   "metadata": {},
   "outputs": [],
   "source": [
    "import numpy as np\n",
    "import pandas as pd\n",
    "import math"
   ]
  },
  {
   "cell_type": "code",
   "execution_count": 87,
   "metadata": {},
   "outputs": [],
   "source": [
    "file1 = open('3.txt', 'r')\n",
    "lines = file1.readlines()"
   ]
  },
  {
   "cell_type": "code",
   "execution_count": 69,
   "metadata": {},
   "outputs": [],
   "source": [
    "rounds = []\n",
    "for l in lines:\n",
    "    l = l.replace('\\n','')\n",
    "    middle = math.floor(len(l)/2)\n",
    "    rounds.append((set(l[:middle]),set(l[middle:])),)\n",
    "\n",
    "# rounds"
   ]
  },
  {
   "cell_type": "code",
   "execution_count": 63,
   "metadata": {},
   "outputs": [],
   "source": [
    "items = []\n",
    "for a,b in rounds:\n",
    "    i = a.intersection(b).pop()\n",
    "    priority = ord(i)-96\n",
    "    if priority < 0:\n",
    "        priority += 32+26\n",
    "    items.append(priority)"
   ]
  },
  {
   "cell_type": "code",
   "execution_count": 59,
   "metadata": {},
   "outputs": [
    {
     "data": {
      "text/plain": [
       "[16, 38, 42, 22, 20, 19]"
      ]
     },
     "execution_count": 59,
     "metadata": {},
     "output_type": "execute_result"
    }
   ],
   "source": [
    "items"
   ]
  },
  {
   "cell_type": "code",
   "execution_count": 64,
   "metadata": {},
   "outputs": [
    {
     "data": {
      "text/plain": [
       "8515"
      ]
     },
     "execution_count": 64,
     "metadata": {},
     "output_type": "execute_result"
    }
   ],
   "source": [
    "sum(items)"
   ]
  },
  {
   "cell_type": "markdown",
   "metadata": {},
   "source": [
    "# Second part"
   ]
  },
  {
   "cell_type": "code",
   "execution_count": 88,
   "metadata": {},
   "outputs": [],
   "source": [
    "rounds_2 = []\n",
    "tmp = []\n",
    "for l in lines:\n",
    "    l = l.replace('\\n','')\n",
    "    if len(tmp) == 3:\n",
    "        rounds_2.append(tmp)\n",
    "        tmp = []\n",
    "    tmp.append(set(l))\n",
    "rounds_2.append(tmp)"
   ]
  },
  {
   "cell_type": "code",
   "execution_count": 89,
   "metadata": {},
   "outputs": [],
   "source": [
    "items = []\n",
    "for a,b,c in rounds_2:\n",
    "    i = a.intersection(b).intersection(c).pop()\n",
    "    # print(i)\n",
    "    priority = ord(i)-96\n",
    "    if priority < 0:\n",
    "        priority += 32+26\n",
    "    items.append(priority)"
   ]
  },
  {
   "cell_type": "code",
   "execution_count": 91,
   "metadata": {},
   "outputs": [
    {
     "data": {
      "text/plain": [
       "[23,\n",
       " 52,\n",
       " 4,\n",
       " 43,\n",
       " 36,\n",
       " 34,\n",
       " 33,\n",
       " 28,\n",
       " 39,\n",
       " 43,\n",
       " 20,\n",
       " 16,\n",
       " 32,\n",
       " 23,\n",
       " 7,\n",
       " 32,\n",
       " 3,\n",
       " 28,\n",
       " 20,\n",
       " 44,\n",
       " 34,\n",
       " 17,\n",
       " 14,\n",
       " 34,\n",
       " 19,\n",
       " 16,\n",
       " 22,\n",
       " 10,\n",
       " 26,\n",
       " 22,\n",
       " 6,\n",
       " 2,\n",
       " 45,\n",
       " 13,\n",
       " 19,\n",
       " 26,\n",
       " 3,\n",
       " 42,\n",
       " 7,\n",
       " 34,\n",
       " 2,\n",
       " 49,\n",
       " 17,\n",
       " 23,\n",
       " 8,\n",
       " 13,\n",
       " 23,\n",
       " 20,\n",
       " 22,\n",
       " 43,\n",
       " 49,\n",
       " 44,\n",
       " 22,\n",
       " 12,\n",
       " 45,\n",
       " 40,\n",
       " 12,\n",
       " 42,\n",
       " 36,\n",
       " 3,\n",
       " 17,\n",
       " 38,\n",
       " 30,\n",
       " 2,\n",
       " 23,\n",
       " 39,\n",
       " 23,\n",
       " 30,\n",
       " 29,\n",
       " 30,\n",
       " 4,\n",
       " 19,\n",
       " 14,\n",
       " 6,\n",
       " 13,\n",
       " 16,\n",
       " 6,\n",
       " 12,\n",
       " 29,\n",
       " 19,\n",
       " 18,\n",
       " 22,\n",
       " 38,\n",
       " 33,\n",
       " 30,\n",
       " 3,\n",
       " 44,\n",
       " 4,\n",
       " 42,\n",
       " 16,\n",
       " 44,\n",
       " 7,\n",
       " 18,\n",
       " 28,\n",
       " 42,\n",
       " 34,\n",
       " 10,\n",
       " 42,\n",
       " 44,\n",
       " 20]"
      ]
     },
     "execution_count": 91,
     "metadata": {},
     "output_type": "execute_result"
    }
   ],
   "source": [
    "items"
   ]
  },
  {
   "cell_type": "code",
   "execution_count": 90,
   "metadata": {},
   "outputs": [
    {
     "data": {
      "text/plain": [
       "2434"
      ]
     },
     "execution_count": 90,
     "metadata": {},
     "output_type": "execute_result"
    }
   ],
   "source": [
    "sum(items)"
   ]
  },
  {
   "cell_type": "code",
   "execution_count": null,
   "metadata": {},
   "outputs": [],
   "source": []
  }
 ],
 "metadata": {
  "kernelspec": {
   "display_name": "Python 3.11.0 64-bit",
   "language": "python",
   "name": "python3"
  },
  "language_info": {
   "codemirror_mode": {
    "name": "ipython",
    "version": 3
   },
   "file_extension": ".py",
   "mimetype": "text/x-python",
   "name": "python",
   "nbconvert_exporter": "python",
   "pygments_lexer": "ipython3",
   "version": "3.11.0"
  },
  "orig_nbformat": 4,
  "vscode": {
   "interpreter": {
    "hash": "aee8b7b246df8f9039afb4144a1f6fd8d2ca17a180786b69acc140d282b71a49"
   }
  }
 },
 "nbformat": 4,
 "nbformat_minor": 2
}
